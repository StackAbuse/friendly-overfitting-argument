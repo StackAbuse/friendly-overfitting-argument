{
 "cells": [
  {
   "cell_type": "code",
   "execution_count": 2,
   "id": "f64c9eda",
   "metadata": {},
   "outputs": [
    {
     "name": "stderr",
     "output_type": "stream",
     "text": [
      "Using TensorFlow backend.\n"
     ]
    }
   ],
   "source": [
    "# Tensorflow and Keras\n",
    "from tensorflow import keras\n",
    "import tensorflow as tf\n",
    "import pandas as pd\n",
    "#Numpy and MPL\n",
    "import numpy as np\n",
    "import matplotlib.pyplot as plt\n",
    "\n",
    "from keras.preprocessing.image import ImageDataGenerator"
   ]
  },
  {
   "cell_type": "code",
   "execution_count": 3,
   "id": "1b768a8b",
   "metadata": {},
   "outputs": [
    {
     "name": "stdout",
     "output_type": "stream",
     "text": [
      "(60000, 28, 28)\n",
      "(60000,)\n"
     ]
    }
   ],
   "source": [
    "(X_train_full, Y_train_full), (X_test, Y_test) = keras.datasets.mnist.load_data()\n",
    "\n",
    "print(X_train_full.shape)\n",
    "print(Y_train_full.shape)\n",
    "\n",
    "X_valid, X_train = X_train_full[:5000]/255.0, X_train_full[5000:]/255.0\n",
    "Y_valid, Y_train = Y_train_full[:5000], Y_train_full[5000:]\n",
    "\n",
    "X_test = X_test/255.0"
   ]
  },
  {
   "cell_type": "code",
   "execution_count": 12,
   "id": "f67a40f1",
   "metadata": {},
   "outputs": [
    {
     "name": "stdout",
     "output_type": "stream",
     "text": [
      "Epoch 1/10\n",
      "1719/1719 [==============================] - 11s 6ms/step - loss: 0.3012 - accuracy: 0.9107 - val_loss: 0.1256 - val_accuracy: 0.9630\n",
      "Epoch 2/10\n",
      "1719/1719 [==============================] - 11s 6ms/step - loss: 0.1529 - accuracy: 0.9546 - val_loss: 0.1099 - val_accuracy: 0.9710\n",
      "Epoch 3/10\n",
      "1719/1719 [==============================] - 10s 6ms/step - loss: 0.1203 - accuracy: 0.9642 - val_loss: 0.0920 - val_accuracy: 0.9742\n",
      "Epoch 4/10\n",
      "1719/1719 [==============================] - 10s 6ms/step - loss: 0.0966 - accuracy: 0.9704 - val_loss: 0.0860 - val_accuracy: 0.9752\n",
      "Epoch 5/10\n",
      "1719/1719 [==============================] - 11s 6ms/step - loss: 0.0850 - accuracy: 0.9739 - val_loss: 0.0875 - val_accuracy: 0.9760\n",
      "Epoch 6/10\n",
      "1719/1719 [==============================] - 10s 6ms/step - loss: 0.0744 - accuracy: 0.9769 - val_loss: 0.0890 - val_accuracy: 0.9744\n",
      "Epoch 7/10\n",
      "1719/1719 [==============================] - 10s 6ms/step - loss: 0.0701 - accuracy: 0.9783 - val_loss: 0.0808 - val_accuracy: 0.9784\n",
      "Epoch 8/10\n",
      "1719/1719 [==============================] - 10s 6ms/step - loss: 0.0643 - accuracy: 0.9802 - val_loss: 0.0854 - val_accuracy: 0.9780\n",
      "Epoch 9/10\n",
      "1719/1719 [==============================] - 10s 6ms/step - loss: 0.0573 - accuracy: 0.9824 - val_loss: 0.0831 - val_accuracy: 0.9788\n",
      "Epoch 10/10\n",
      "1719/1719 [==============================] - 10s 6ms/step - loss: 0.0531 - accuracy: 0.9835 - val_loss: 0.0863 - val_accuracy: 0.9790\n"
     ]
    }
   ],
   "source": [
    "checkpoint = keras.callbacks.ModelCheckpoint(\"dense_model.h5\", save_best_only=True)\n",
    "early_stopping = keras.callbacks.EarlyStopping(patience=10, restore_best_weights=True)\n",
    "\n",
    "model = keras.Sequential([\n",
    "  keras.layers.Flatten(input_shape=[28, 28]),\n",
    "  keras.layers.BatchNormalization(),\n",
    "  keras.layers.Dense(75, activation='elu', kernel_initializer=\"he_normal\"),\n",
    "    \n",
    "  keras.layers.Dense(50, activation='relu'),\n",
    "  keras.layers.BatchNormalization(),\n",
    "  keras.layers.Dropout(0.1),\n",
    "    \n",
    "  keras.layers.Dense(25, activation='relu'),\n",
    "  keras.layers.BatchNormalization(),\n",
    "  keras.layers.Dropout(0.1),\n",
    "\n",
    "  keras.layers.Dense(10, activation='softmax')\n",
    "])\n",
    "\n",
    "\n",
    "model.compile(loss=\"sparse_categorical_crossentropy\",\n",
    "              optimizer=keras.optimizers.Adam(learning_rate=1e-2, decay=1e-3),\n",
    "              metrics=[\"accuracy\"])\n",
    "\n",
    "history = model.fit(X_train, \n",
    "                    Y_train, \n",
    "                    epochs=10, \n",
    "                    validation_data=(X_valid, Y_valid),\n",
    "                    callbacks=[checkpoint, early_stopping])"
   ]
  },
  {
   "cell_type": "code",
   "execution_count": 13,
   "id": "3419ec69",
   "metadata": {},
   "outputs": [
    {
     "data": {
      "image/png": "[encoded data removed]",
      "text/plain": [
       "<Figure size 432x288 with 1 Axes>"
      ]
     },
     "metadata": {
      "needs_background": "light"
     },
     "output_type": "display_data"
    },
    {
     "name": "stdout",
     "output_type": "stream",
     "text": [
      "313/313 [==============================] - 1s 2ms/step - loss: 0.0916 - accuracy: 0.9779\n"
     ]
    },
    {
     "data": {
      "text/plain": [
       "[0.09159749001264572, 0.9779000282287598]"
      ]
     },
     "execution_count": 13,
     "metadata": {},
     "output_type": "execute_result"
    }
   ],
   "source": [
    "pd.DataFrame(history.history).plot()\n",
    "plt.show()\n",
    "\n",
    "model.evaluate(X_test, Y_test)"
   ]
  },
  {
   "cell_type": "code",
   "execution_count": null,
   "id": "1c969b79",
   "metadata": {},
   "outputs": [],
   "source": []
  }
 ],
 "metadata": {
  "kernelspec": {
   "display_name": "Python 3 (ipykernel)",
   "language": "python",
   "name": "python3"
  },
  "language_info": {
   "codemirror_mode": {
    "name": "ipython",
    "version": 3
   },
   "file_extension": ".py",
   "mimetype": "text/x-python",
   "name": "python",
   "nbconvert_exporter": "python",
   "pygments_lexer": "ipython3",
   "version": "3.7.0"
  }
 },
 "nbformat": 4,
 "nbformat_minor": 5
}
